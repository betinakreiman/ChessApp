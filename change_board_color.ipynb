{
 "cells": [
  {
   "cell_type": "code",
   "execution_count": 5,
   "metadata": {},
   "outputs": [],
   "source": [
    "from PIL import Image\n",
    "\n",
    "img = Image.open(\"/Users/betinakreiman/Desktop/board.jpg\")\n",
    "img.show()\n",
    "pix = img.load()\n",
    "size = img.size\n",
    "\n",
    "\n",
    "def goingThroughPixels3(x, y):\n",
    "    for i in range(x):\n",
    "        for j in range(y):\n",
    "            a, b, c = pix[i, j]\n",
    "            if a == 255:\n",
    "                # white\n",
    "                pix[i, j] = (236, 230, 220)\n",
    "            else:\n",
    "                pix[i, j] = (172, 201, 213)\n",
    "    #img.show()\n",
    "goingThroughPixels3(size[0], size[1])\n",
    "\n",
    "\n",
    "img = img.convert(\"RGBA\")\n",
    "datas = img.getdata()\n",
    "\n",
    "pixe = img.load()\n",
    "\n",
    "newData = []\n",
    "for item in datas:\n",
    "    a = item[0]\n",
    "    #print(a)\n",
    "    b = item[1]\n",
    "    c = item[2]\n",
    "    if a == 236:\n",
    "        newData.append((236, 230, 220))\n",
    "    #if item[0] == 255 and item[1] == 255 and item[2] == 255:\n",
    "        #newData.append((255, 255, 255, 0))\n",
    "    else:\n",
    "        newData.append((172, 201, 213))\n",
    "\n",
    "img.putdata(newData)\n",
    "img.save(\"/Users/betinakreiman/Desktop/board.jpg\", \"PNG\")\n",
    "img.show()"
   ]
  }
 ],
 "metadata": {
  "kernelspec": {
   "display_name": "Python 3",
   "language": "python",
   "name": "python3"
  },
  "language_info": {
   "codemirror_mode": {
    "name": "ipython",
    "version": 3
   },
   "file_extension": ".py",
   "mimetype": "text/x-python",
   "name": "python",
   "nbconvert_exporter": "python",
   "pygments_lexer": "ipython3",
   "version": "3.7.6"
  }
 },
 "nbformat": 4,
 "nbformat_minor": 4
}
